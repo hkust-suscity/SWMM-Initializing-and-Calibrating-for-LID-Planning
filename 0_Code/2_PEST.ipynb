{
  "cells": [
    {
      "cell_type": "code",
      "execution_count": null,
      "metadata": {
        "id": "OoROPB1awbS5"
      },
      "outputs": [],
      "source": [
        "import pandas as pd\n",
        "import os\n",
        "import numpy as np"
      ]
    },
    {
      "cell_type": "code",
      "source": [
        "#1. Change \"Kowloon_FM2627_cali.inp\" into \"in.tpl\"\n",
        "#2. Run \"tempchek in.tpl\" in CMD to produce \"in.pmt\" which includes all calibrated  parameters names\n",
        "#3. Run the following code to produce \"in.par\" which assign initial values to all calibrated parameters"
      ],
      "metadata": {
        "id": "2PMmB7OmzAp6"
      },
      "execution_count": null,
      "outputs": []
    },
    {
      "cell_type": "code",
      "source": [
        "pmt=pd.read_csv('in.pmt',delimiter=r'\\s+',header=None,names=['para'])"
      ],
      "metadata": {
        "id": "Ax_uk4fy_f6O"
      },
      "execution_count": null,
      "outputs": []
    },
    {
      "cell_type": "code",
      "source": [
        "keys=pd.read_csv(r'PEST\\table_catchment_props_cali_pre.csv',usecols=['imperv', 'dst_imp', 'n_imper', 'dst_per', 'n_perv', 'percz_i', 'conduct', 'initdef', 'suction',])"
      ],
      "metadata": {
        "id": "bjZ981Fw_l9d"
      },
      "execution_count": null,
      "outputs": []
    },
    {
      "cell_type": "code",
      "source": [
        "values=pd.read_csv(r'pest\\table_catchment_props.csv',usecols=['imperv', 'dst_imp', 'n_imper', 'dst_per', 'n_perv', 'percz_i', 'conduct', 'initdef', 'suction',])"
      ],
      "metadata": {
        "id": "a4mqNT_k_nSF"
      },
      "execution_count": null,
      "outputs": []
    },
    {
      "cell_type": "code",
      "source": [
        "dic=dict(zip(keys.stack().tolist(), values.stack().tolist()))"
      ],
      "metadata": {
        "id": "_TWvHpVBGWDE"
      },
      "execution_count": null,
      "outputs": []
    },
    {
      "cell_type": "code",
      "source": [
        "dic.update({'r1': 0.015,'r2':0.015})"
      ],
      "metadata": {
        "id": "6WehxHuwHn4c"
      },
      "execution_count": null,
      "outputs": []
    },
    {
      "cell_type": "code",
      "source": [
        "pmt['val'] = pmt['para'].map(dic)"
      ],
      "metadata": {
        "id": "_pa1l76qHxX1"
      },
      "execution_count": null,
      "outputs": []
    },
    {
      "cell_type": "code",
      "source": [
        "pmt.val=pmt.val.round(3)"
      ],
      "metadata": {
        "id": "BDhK1l0qHzoc"
      },
      "execution_count": null,
      "outputs": []
    },
    {
      "cell_type": "code",
      "source": [
        "pmt['a']=1\n",
        "pmt['b']=0"
      ],
      "metadata": {
        "id": "5EF5GTOCJO1F"
      },
      "execution_count": null,
      "outputs": []
    },
    {
      "cell_type": "code",
      "source": [
        "pmt.to_csv(r'in.par',sep='\\t',index=False,header=False)"
      ],
      "metadata": {
        "id": "K3tOLqqkJQa8"
      },
      "execution_count": null,
      "outputs": []
    },
    {
      "cell_type": "code",
      "source": [
        "#4.\tRun \"tempchek in.tpl in.inp in.par\" in CMD to produce \"in.inp\"\n",
        "#5.\tReproduce \"in.inp\" to \"in1.inp\" \"in2.inp\" with two rainfalls for calibration\n",
        "#6. Try \"swmm5 in.inp out.rpt\" to see if the .inp file can run successfully\n",
        "#7. Check the \"out.rpt\" and write \"out.ins\" file on the format requirement of PEST\n",
        "#8. Run \"inschek out.ins out.rpt\" to produce \"out.obf\"\n",
        "#9. Replace the numbers in \"out.obf\" with real records in \"measure.dat\" and rename it to \"measure.obf\"\n",
        "#10. Run \"pestgen control in.par measure.obf\" to produce control file\n",
        "#11. Edit control file"
      ],
      "metadata": {
        "id": "PZLsvmYS3k2U"
      },
      "execution_count": null,
      "outputs": []
    },
    {
      "cell_type": "code",
      "source": [
        "#    a.\tOpen control file in excel\n",
        "#    b.\tChange the parameter groups\n",
        "#    c.\tChange the parameters and the upper/lower bound \n",
        "#    d.\tChange the command lines and some related numbers\n",
        "#    e.\tSave as text, then open control file and replace the parameter groups & parameters part with the corresponding parts in the text file"
      ],
      "metadata": {
        "id": "p2YDIFxDAxgw"
      },
      "execution_count": null,
      "outputs": []
    },
    {
      "cell_type": "code",
      "source": [
        "#12. Run \"pestchek control\" in CMD to check\n",
        "#13. Run \"pest control\" in CMD to start running\n",
        "#14. The final sections of the *.rec file record the final/best estimated parameter values based on the PEST optimization algorithm"
      ],
      "metadata": {
        "id": "PhOwJ9UdBIEI"
      },
      "execution_count": null,
      "outputs": []
    }
  ],
  "metadata": {
    "kernelspec": {
      "display_name": "Python [conda env:venv] *",
      "language": "python",
      "name": "conda-env-venv-py"
    },
    "language_info": {
      "codemirror_mode": {
        "name": "ipython",
        "version": 3
      },
      "file_extension": ".py",
      "mimetype": "text/x-python",
      "name": "python",
      "nbconvert_exporter": "python",
      "pygments_lexer": "ipython3",
      "version": "3.7.7"
    },
    "colab": {
      "provenance": []
    }
  },
  "nbformat": 4,
  "nbformat_minor": 0
}