{
  "cells": [
    {
      "cell_type": "code",
      "source": [
        "#1. Prepare files for GisToSWMM according to the format in folder \"GisToSWMM_input\" after preprocessing data in arcgis.\n",
        "#2. Run the batch file \"run_GisToSWMM5_adap\" to produce SWMM input file.\n",
        "#3. Then you can modifiy SWMM input file such as manual refinement of conduits in SWMM, and save as Kowloon_FM2627_cali_ori.inp.\n",
        "#4. Use the following code to convert the .inp to GisToSWMM input excels, and save in the format of \"..._cali.csv\"."
      ],
      "metadata": {
        "id": "RNxCa8STn2GZ"
      },
      "execution_count": null,
      "outputs": []
    },
    {
      "cell_type": "code",
      "execution_count": null,
      "metadata": {
        "id": "OoROPB1awbS5"
      },
      "outputs": [],
      "source": [
        "import pandas as pd\n",
        "import os\n",
        "import numpy as np\n",
        "from swmm_api.input_file.sections import LIDUsage\n",
        "from swmm_api.input_file.sections import LIDControl\n",
        "from swmm_api.input_file import read_inp_file, SwmmInput, section_labels as sections\n",
        "from swmm_api.input_file import section_labels as sections\n",
        "from swmm_api.input_file.helpers import InpSection\n"
      ]
    },
    {
      "cell_type": "code",
      "execution_count": null,
      "metadata": {
        "id": "IXiYmQfpwbS8"
      },
      "outputs": [],
      "source": [
        "caliori = read_inp_file(r'GisToSWMM\\Kowloon_FM2627_cali_ori.inp')"
      ]
    },
    {
      "cell_type": "code",
      "execution_count": null,
      "metadata": {
        "scrolled": true,
        "id": "Me0itfuYwbS8"
      },
      "outputs": [],
      "source": [
        "from swmm_api.input_file.sections import Conduit,Junction"
      ]
    },
    {
      "cell_type": "code",
      "execution_count": null,
      "metadata": {
        "id": "WPYZfjxpwbS9"
      },
      "outputs": [],
      "source": [
        "caliori[sections.CONDUITS].frame.to_csv('table_conduits_cali.csv')"
      ]
    },
    {
      "cell_type": "code",
      "execution_count": null,
      "metadata": {
        "id": "eb2GJb7YwbS9"
      },
      "outputs": [],
      "source": [
        "caliori[sections.JUNCTIONS].frame.to_csv('table_junctions_cali.csv')"
      ]
    },
    {
      "cell_type": "code",
      "execution_count": null,
      "metadata": {
        "id": "99E6i2d9wbS-"
      },
      "outputs": [],
      "source": [
        "#5. Then manually change all patameters being clibrated from figures to a1,b1......and save in the format of \"\"..._cali_pre.scv\".\n",
        "df1=pd.read_csv(r'GisToSWMM\\table_catchment_props_cali_pre.csv')"
      ]
    },
    {
      "cell_type": "code",
      "source": [
        "#6. Change all parameters being calibrated from figures to #a1# #b1#...... with the help of the following code. "
      ],
      "metadata": {
        "id": "DCM7127o1pBj"
      },
      "execution_count": null,
      "outputs": []
    },
    {
      "cell_type": "code",
      "source": [
        "for n in ['imperv', 'dst_imp', 'n_imper', 'dst_per', 'n_perv', 'percz_i']:\n",
        "    for i in range(0,9):\n",
        "        df1.at[i,n]='#'+df1.at[i,n]+' '+'#'\n",
        "    for i in range(9,14):\n",
        "        df1.at[i,n]='#'+df1.at[i,n]+'#'"
      ],
      "metadata": {
        "id": "EWYK4ja61z7r"
      },
      "execution_count": null,
      "outputs": []
    },
    {
      "cell_type": "code",
      "source": [
        "for n in ['conduct', 'initdef', 'suction']:\n",
        "        df1[n]='#'+df1[n].map(str)+'#'"
      ],
      "metadata": {
        "id": "4PjjS16f12TL"
      },
      "execution_count": null,
      "outputs": []
    },
    {
      "cell_type": "code",
      "source": [
        "df1.to_csv(r'table_catchment_props_cali.csv',index=False)"
      ],
      "metadata": {
        "id": "fg8q2WF42Enb"
      },
      "execution_count": null,
      "outputs": []
    },
    {
      "cell_type": "code",
      "source": [
        "#7. Then run the batch file \"run_GisToSWMM5_adap - Calibration\" to produce SWMM input file for calibration(Kowloon_FM2627_cali.inp)."
      ],
      "metadata": {
        "id": "WyMoH9dhk9DU"
      },
      "execution_count": null,
      "outputs": []
    }
  ],
  "metadata": {
    "kernelspec": {
      "display_name": "Python [conda env:venv] *",
      "language": "python",
      "name": "conda-env-venv-py"
    },
    "language_info": {
      "codemirror_mode": {
        "name": "ipython",
        "version": 3
      },
      "file_extension": ".py",
      "mimetype": "text/x-python",
      "name": "python",
      "nbconvert_exporter": "python",
      "pygments_lexer": "ipython3",
      "version": "3.7.7"
    },
    "colab": {
      "provenance": []
    }
  },
  "nbformat": 4,
  "nbformat_minor": 0
}