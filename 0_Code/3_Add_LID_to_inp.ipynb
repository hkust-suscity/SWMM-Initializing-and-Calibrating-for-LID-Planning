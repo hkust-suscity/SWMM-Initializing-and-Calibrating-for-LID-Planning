{
  "cells": [
    {
      "cell_type": "code",
      "execution_count": null,
      "metadata": {
        "id": "8z5mr8WNMWCL"
      },
      "outputs": [],
      "source": [
        "import pandas as pd\n",
        "import os\n",
        "import numpy as np\n",
        "\n",
        "from swmm_api.input_file.sections import LIDUsage\n",
        "from swmm_api.input_file.sections import LIDControl\n",
        "from swmm_api.input_file import read_inp_file, SwmmInput, section_labels as sections\n",
        "from swmm_api.input_file import section_labels as sections\n",
        "from swmm_api.input_file.helpers import InpSection\n"
      ]
    },
    {
      "cell_type": "code",
      "execution_count": null,
      "metadata": {
        "id": "d85RqU14MWCM"
      },
      "outputs": [],
      "source": [
        "from swmm_api.input_file import read_inp_file\n",
        "from swmm_api.input_file.section_labels import *\n",
        "from swmm_api.input_file.sections import *"
      ]
    },
    {
      "cell_type": "code",
      "execution_count": null,
      "metadata": {
        "scrolled": true,
        "id": "d4IuRWkyMWCN"
      },
      "outputs": [],
      "source": [
        "os.chdir(r'\\LID_Application')"
      ]
    },
    {
      "cell_type": "code",
      "execution_count": null,
      "metadata": {
        "scrolled": true,
        "id": "9UxXzxRbMWCN"
      },
      "outputs": [],
      "source": [
        "inp = read_inp_file('in1.inp')"
      ]
    },
    {
      "cell_type": "code",
      "execution_count": null,
      "metadata": {
        "scrolled": true,
        "id": "3jN4yeChMWCN"
      },
      "outputs": [],
      "source": [
        "inp[sections.LID_CONTROLS] = LIDControl.create_section()"
      ]
    },
    {
      "cell_type": "code",
      "execution_count": null,
      "metadata": {
        "scrolled": false,
        "id": "KpPkAiklMWCN"
      },
      "outputs": [],
      "source": [
        "##Add green roof\n",
        "inp[sections.LID_CONTROLS].add_obj(LIDControl(Name = \"GR1\", lid_kind = \"GR\",surfaces = \n",
        "                                              {'SURFACE': LIDControl.Surface(StorHt = 75.0, VegFrac = 0.1, Rough = 0.1, Slope = 1.0, Xslope = 0.0), \n",
        "                                               'SOIL': LIDControl.Soil(Thick =100.0, Por = 0.5, FC = 0.2, WP = 0.024, Ksat = 100.0, Kcoeff = 10.0, Suct = 50), \n",
        "                                               'DRAINMAT': LIDControl.Drainmat(Thick = 75.0, Vratio = 0.5, Rough = 0.1)}))"
      ]
    },
    {
      "cell_type": "code",
      "execution_count": null,
      "metadata": {
        "scrolled": false,
        "id": "HqeS0u4pMWCN"
      },
      "outputs": [],
      "source": [
        "##Add Bioretention\n",
        "inp[sections.LID_CONTROLS].add_obj(LIDControl(Name = \"BC1\", lid_kind = \"BC\",surfaces = \n",
        "                                              {'SURFACE': LIDControl.Surface(StorHt = 150.0, VegFrac = 0.1, Rough = 0.1, Slope = 1.0, Xslope = 0.0), \n",
        "                                               'SOIL': LIDControl.Soil(Thick = 450.0, Por = 0.5, FC = 0.2, WP = 0.047, Ksat = 100.0, Kcoeff = 10.0, Suct = 50), \n",
        "                                               'STORAGE': LIDControl.Storage(Height = 500.0, Vratio = 0.75, Seepage = 100.0, Vclog = 0), \n",
        "                                               'DRAIN': LIDControl.Drain(Coeff = 0.5, Expon = 0.5, Offset = 150.0, Delay = \"0\")}))"
      ]
    },
    {
      "cell_type": "code",
      "execution_count": null,
      "metadata": {
        "scrolled": false,
        "id": "KxfZRNMMMWCO"
      },
      "outputs": [],
      "source": [
        "##Add PP\n",
        "inp[sections.LID_CONTROLS].add_obj(LIDControl(Name = \"PP1\", lid_kind = \"PP\",surfaces = \n",
        "                                              {'SURFACE': LIDControl.Surface(StorHt = 5.0, VegFrac = 0.0, Rough = 0.012, Slope = 1.0, Xslope = 0.0), \n",
        "                                               'PAVEMENT': LIDControl.Pavement(Thick = 150.0, Vratio = 0.15, FracImp = 0.0, Perm = 200.0, Vclog = \"0\", regeneration_interval = 0.0, regeneration_fraction = 0.0), \n",
        "                                               'STORAGE': LIDControl.Storage(Height = 300.0, Vratio = 0.5, Seepage = 100.0, Vclog = 0), \n",
        "                                               'DRAIN': LIDControl.Drain(Coeff = 0.5, Expon = 0.5, Offset = 100.0, Delay = \"0\")}))"
      ]
    },
    {
      "cell_type": "code",
      "execution_count": null,
      "metadata": {
        "scrolled": false,
        "id": "_jBZ0F2fMWCO",
        "outputId": "1e9b1754-3f3b-474f-aa9b-2d28913d376b"
      },
      "outputs": [
        {
          "data": {
            "text/html": [
              "<div>\n",
              "<style scoped>\n",
              "    .dataframe tbody tr th:only-of-type {\n",
              "        vertical-align: middle;\n",
              "    }\n",
              "\n",
              "    .dataframe tbody tr th {\n",
              "        vertical-align: top;\n",
              "    }\n",
              "\n",
              "    .dataframe thead th {\n",
              "        text-align: right;\n",
              "    }\n",
              "</style>\n",
              "<table border=\"1\" class=\"dataframe\">\n",
              "  <thead>\n",
              "    <tr style=\"text-align: right;\">\n",
              "      <th></th>\n",
              "      <th></th>\n",
              "      <th>layer_dict</th>\n",
              "    </tr>\n",
              "    <tr>\n",
              "      <th>Name</th>\n",
              "      <th>lid_kind</th>\n",
              "      <th></th>\n",
              "    </tr>\n",
              "  </thead>\n",
              "  <tbody>\n",
              "    <tr>\n",
              "      <th>BC1</th>\n",
              "      <th>BC</th>\n",
              "      <td>{'SURFACE': Surface(StorHt=150.0, VegFrac=0.1,...</td>\n",
              "    </tr>\n",
              "    <tr>\n",
              "      <th>GR1</th>\n",
              "      <th>GR</th>\n",
              "      <td>{'SURFACE': Surface(StorHt=75.0, VegFrac=0.1, ...</td>\n",
              "    </tr>\n",
              "    <tr>\n",
              "      <th>PP1</th>\n",
              "      <th>PP</th>\n",
              "      <td>{'SURFACE': Surface(StorHt=5.0, VegFrac=0.0, R...</td>\n",
              "    </tr>\n",
              "  </tbody>\n",
              "</table>\n",
              "</div>"
            ],
            "text/plain": [
              "                                                      layer_dict\n",
              "Name lid_kind                                                   \n",
              "BC1  BC        {'SURFACE': Surface(StorHt=150.0, VegFrac=0.1,...\n",
              "GR1  GR        {'SURFACE': Surface(StorHt=75.0, VegFrac=0.1, ...\n",
              "PP1  PP        {'SURFACE': Surface(StorHt=5.0, VegFrac=0.0, R..."
            ]
          },
          "execution_count": 67,
          "metadata": {},
          "output_type": "execute_result"
        }
      ],
      "source": [
        "inp[sections.LID_CONTROLS].frame"
      ]
    },
    {
      "cell_type": "code",
      "execution_count": null,
      "metadata": {
        "scrolled": false,
        "id": "vgco1qiJMWCP",
        "outputId": "81711020-c273-478d-9963-5c588f1b0780"
      },
      "outputs": [
        {
          "name": "stderr",
          "output_type": "stream",
          "text": [
            "SubCatchment:  50%|███████████████████████████                           | 5917/11834 [00:00<00:00, 98614.80it/s, Read]\n",
            "Tag: 5917it [00:00, 295790.34it/s, Read]                                                                               \n"
          ]
        },
        {
          "data": {
            "text/html": [
              "<div>\n",
              "<style scoped>\n",
              "    .dataframe tbody tr th:only-of-type {\n",
              "        vertical-align: middle;\n",
              "    }\n",
              "\n",
              "    .dataframe tbody tr th {\n",
              "        vertical-align: top;\n",
              "    }\n",
              "\n",
              "    .dataframe thead th {\n",
              "        text-align: right;\n",
              "    }\n",
              "</style>\n",
              "<table border=\"1\" class=\"dataframe\">\n",
              "  <thead>\n",
              "    <tr style=\"text-align: right;\">\n",
              "      <th></th>\n",
              "      <th></th>\n",
              "      <th>RainGage</th>\n",
              "      <th>Outlet</th>\n",
              "      <th>Area</th>\n",
              "      <th>Imperv</th>\n",
              "      <th>Width</th>\n",
              "      <th>Slope</th>\n",
              "      <th>CurbLen</th>\n",
              "      <th>SnowPack</th>\n",
              "      <th>tag</th>\n",
              "    </tr>\n",
              "    <tr>\n",
              "      <th>kind</th>\n",
              "      <th>Name</th>\n",
              "      <th></th>\n",
              "      <th></th>\n",
              "      <th></th>\n",
              "      <th></th>\n",
              "      <th></th>\n",
              "      <th></th>\n",
              "      <th></th>\n",
              "      <th></th>\n",
              "      <th></th>\n",
              "    </tr>\n",
              "  </thead>\n",
              "  <tbody>\n",
              "    <tr>\n",
              "      <th rowspan=\"11\" valign=\"top\">Subcatch</th>\n",
              "      <th>s1</th>\n",
              "      <td>STA01</td>\n",
              "      <td>SMH4078080</td>\n",
              "      <td>0.00375</td>\n",
              "      <td>90.02</td>\n",
              "      <td>4.29</td>\n",
              "      <td>14.8625</td>\n",
              "      <td>2.5</td>\n",
              "      <td>sp_imp_plowable</td>\n",
              "      <td>Government</td>\n",
              "    </tr>\n",
              "    <tr>\n",
              "      <th>s10</th>\n",
              "      <td>STA01</td>\n",
              "      <td>s9</td>\n",
              "      <td>0.00063</td>\n",
              "      <td>90.01</td>\n",
              "      <td>1.75</td>\n",
              "      <td>19.3137</td>\n",
              "      <td>2.5</td>\n",
              "      <td>sp_imp_nonplowable</td>\n",
              "      <td>Private_Residential</td>\n",
              "    </tr>\n",
              "    <tr>\n",
              "      <th>s100</th>\n",
              "      <td>STA01</td>\n",
              "      <td>s99</td>\n",
              "      <td>0.00875</td>\n",
              "      <td>100.00</td>\n",
              "      <td>6.55</td>\n",
              "      <td>23.8137</td>\n",
              "      <td>2.5</td>\n",
              "      <td>sp_imp_plowable</td>\n",
              "      <td>Railways</td>\n",
              "    </tr>\n",
              "    <tr>\n",
              "      <th>s1000</th>\n",
              "      <td>STA01</td>\n",
              "      <td>s994</td>\n",
              "      <td>0.00187</td>\n",
              "      <td>90.01</td>\n",
              "      <td>3.03</td>\n",
              "      <td>10.8926</td>\n",
              "      <td>2.5</td>\n",
              "      <td>sp_imp_nonplowable</td>\n",
              "      <td>Private_Residential</td>\n",
              "    </tr>\n",
              "    <tr>\n",
              "      <th>s1001</th>\n",
              "      <td>STA01</td>\n",
              "      <td>s994</td>\n",
              "      <td>0.00937</td>\n",
              "      <td>90.01</td>\n",
              "      <td>6.78</td>\n",
              "      <td>30.9232</td>\n",
              "      <td>2.5</td>\n",
              "      <td>sp_imp_nonplowable</td>\n",
              "      <td>Private_Residential</td>\n",
              "    </tr>\n",
              "    <tr>\n",
              "      <th>...</th>\n",
              "      <td>...</td>\n",
              "      <td>...</td>\n",
              "      <td>...</td>\n",
              "      <td>...</td>\n",
              "      <td>...</td>\n",
              "      <td>...</td>\n",
              "      <td>...</td>\n",
              "      <td>...</td>\n",
              "      <td>...</td>\n",
              "    </tr>\n",
              "    <tr>\n",
              "      <th>s995</th>\n",
              "      <td>STA01</td>\n",
              "      <td>s993</td>\n",
              "      <td>0.00250</td>\n",
              "      <td>89.99</td>\n",
              "      <td>3.50</td>\n",
              "      <td>9.0783</td>\n",
              "      <td>2.5</td>\n",
              "      <td>sp_imp_nonplowable</td>\n",
              "      <td>Public_Residential</td>\n",
              "    </tr>\n",
              "    <tr>\n",
              "      <th>s996</th>\n",
              "      <td>STA01</td>\n",
              "      <td>s993</td>\n",
              "      <td>0.00250</td>\n",
              "      <td>89.99</td>\n",
              "      <td>3.50</td>\n",
              "      <td>9.0783</td>\n",
              "      <td>2.5</td>\n",
              "      <td>sp_imp_nonplowable</td>\n",
              "      <td>Public_Residential</td>\n",
              "    </tr>\n",
              "    <tr>\n",
              "      <th>s997</th>\n",
              "      <td>STA01</td>\n",
              "      <td>s994</td>\n",
              "      <td>0.00063</td>\n",
              "      <td>90.01</td>\n",
              "      <td>1.75</td>\n",
              "      <td>17.0711</td>\n",
              "      <td>2.5</td>\n",
              "      <td>sp_imp_nonplowable</td>\n",
              "      <td>Private_Residential</td>\n",
              "    </tr>\n",
              "    <tr>\n",
              "      <th>s998</th>\n",
              "      <td>STA01</td>\n",
              "      <td>s994</td>\n",
              "      <td>0.00937</td>\n",
              "      <td>90.01</td>\n",
              "      <td>6.78</td>\n",
              "      <td>7.1446</td>\n",
              "      <td>2.5</td>\n",
              "      <td>sp_imp_nonplowable</td>\n",
              "      <td>Private_Residential</td>\n",
              "    </tr>\n",
              "    <tr>\n",
              "      <th>s999</th>\n",
              "      <td>STA01</td>\n",
              "      <td>s994</td>\n",
              "      <td>0.00063</td>\n",
              "      <td>90.01</td>\n",
              "      <td>1.75</td>\n",
              "      <td>8.5355</td>\n",
              "      <td>2.5</td>\n",
              "      <td>sp_imp_nonplowable</td>\n",
              "      <td>Private_Residential</td>\n",
              "    </tr>\n",
              "  </tbody>\n",
              "</table>\n",
              "<p>5917 rows × 9 columns</p>\n",
              "</div>"
            ],
            "text/plain": [
              "               RainGage      Outlet     Area  Imperv  Width    Slope  CurbLen  \\\n",
              "kind     Name                                                                   \n",
              "Subcatch s1       STA01  SMH4078080  0.00375   90.02   4.29  14.8625      2.5   \n",
              "         s10      STA01          s9  0.00063   90.01   1.75  19.3137      2.5   \n",
              "         s100     STA01         s99  0.00875  100.00   6.55  23.8137      2.5   \n",
              "         s1000    STA01        s994  0.00187   90.01   3.03  10.8926      2.5   \n",
              "         s1001    STA01        s994  0.00937   90.01   6.78  30.9232      2.5   \n",
              "...                 ...         ...      ...     ...    ...      ...      ...   \n",
              "         s995     STA01        s993  0.00250   89.99   3.50   9.0783      2.5   \n",
              "         s996     STA01        s993  0.00250   89.99   3.50   9.0783      2.5   \n",
              "         s997     STA01        s994  0.00063   90.01   1.75  17.0711      2.5   \n",
              "         s998     STA01        s994  0.00937   90.01   6.78   7.1446      2.5   \n",
              "         s999     STA01        s994  0.00063   90.01   1.75   8.5355      2.5   \n",
              "\n",
              "                          SnowPack                  tag  \n",
              "kind     Name                                            \n",
              "Subcatch s1        sp_imp_plowable           Government  \n",
              "         s10    sp_imp_nonplowable  Private_Residential  \n",
              "         s100      sp_imp_plowable             Railways  \n",
              "         s1000  sp_imp_nonplowable  Private_Residential  \n",
              "         s1001  sp_imp_nonplowable  Private_Residential  \n",
              "...                            ...                  ...  \n",
              "         s995   sp_imp_nonplowable   Public_Residential  \n",
              "         s996   sp_imp_nonplowable   Public_Residential  \n",
              "         s997   sp_imp_nonplowable  Private_Residential  \n",
              "         s998   sp_imp_nonplowable  Private_Residential  \n",
              "         s999   sp_imp_nonplowable  Private_Residential  \n",
              "\n",
              "[5917 rows x 9 columns]"
            ]
          },
          "execution_count": 68,
          "metadata": {},
          "output_type": "execute_result"
        }
      ],
      "source": [
        "Landuse=inp[sections.SUBCATCHMENTS].frame.join(inp[sections.TAGS].frame)\n",
        "Landuse"
      ]
    },
    {
      "cell_type": "code",
      "execution_count": null,
      "metadata": {
        "scrolled": false,
        "id": "EX4amzXLMWCP",
        "outputId": "cc2c4148-ee00-46ad-9a6d-55040aa04347"
      },
      "outputs": [
        {
          "data": {
            "text/plain": [
              "array(['Government', 'Private_Residential', 'Railways',\n",
              "       'Roads_and_Transport_Facilities', 'Open_Space_and_Recreation',\n",
              "       'Utilities', 'Public_Residential', 'Woodland', 'Shrubland',\n",
              "       'Vacant_land', 'Connected_roof', 'Grassland', 'Others',\n",
              "       'Commercial'], dtype=object)"
            ]
          },
          "execution_count": 49,
          "metadata": {},
          "output_type": "execute_result"
        }
      ],
      "source": [
        "Landuse.tag.unique()"
      ]
    },
    {
      "cell_type": "code",
      "execution_count": null,
      "metadata": {
        "id": "tlRwDDiDMWCP"
      },
      "outputs": [],
      "source": [
        "PP50=['Government', 'Private_Residential','Public_Residential', 'Vacant_land', 'Others', 'Commercial']\n",
        "##pestrain 3m per side, each lane 13.5m, usually 2 lanes with 2 pestrains, so about 20% PP for roads\n",
        "PP20=[ 'Roads_and_Transport_Facilities']\n",
        "BC10=['Government', 'Private_Residential','Public_Residential', 'Vacant_land', 'Others', 'Commercial']\n",
        "GR80=['Connected_roof']"
      ]
    },
    {
      "cell_type": "code",
      "execution_count": null,
      "metadata": {
        "scrolled": true,
        "id": "6gYQ3EmOMWCP",
        "outputId": "4b992d77-edd2-4845-93d2-48b9577e47b0"
      },
      "outputs": [
        {
          "data": {
            "text/html": [
              "<div>\n",
              "<style scoped>\n",
              "    .dataframe tbody tr th:only-of-type {\n",
              "        vertical-align: middle;\n",
              "    }\n",
              "\n",
              "    .dataframe tbody tr th {\n",
              "        vertical-align: top;\n",
              "    }\n",
              "\n",
              "    .dataframe thead th {\n",
              "        text-align: right;\n",
              "    }\n",
              "</style>\n",
              "<table border=\"1\" class=\"dataframe\">\n",
              "  <thead>\n",
              "    <tr style=\"text-align: right;\">\n",
              "      <th></th>\n",
              "      <th>Subcatchment</th>\n",
              "      <th>LID</th>\n",
              "      <th>NUM</th>\n",
              "      <th>AREA</th>\n",
              "      <th>WIDTH</th>\n",
              "      <th>INITSAT</th>\n",
              "      <th>FROMIMP</th>\n",
              "      <th>TOPERV</th>\n",
              "      <th>RPTFILE</th>\n",
              "      <th>DRAINTO</th>\n",
              "    </tr>\n",
              "  </thead>\n",
              "  <tbody>\n",
              "  </tbody>\n",
              "</table>\n",
              "</div>"
            ],
            "text/plain": [
              "Empty DataFrame\n",
              "Columns: [Subcatchment, LID, NUM, AREA, WIDTH, INITSAT, FROMIMP, TOPERV, RPTFILE, DRAINTO]\n",
              "Index: []"
            ]
          },
          "execution_count": 78,
          "metadata": {},
          "output_type": "execute_result"
        }
      ],
      "source": [
        "df=pd.read_excel(r'table_lid_header.xlsx')\n",
        "df"
      ]
    },
    {
      "cell_type": "code",
      "execution_count": null,
      "metadata": {
        "scrolled": true,
        "id": "4_7swxJtMWCP",
        "outputId": "e9d9bdb8-604b-4625-c705-d56c32077aa5"
      },
      "outputs": [
        {
          "name": "stderr",
          "output_type": "stream",
          "text": [
            "SubCatchment: 100%|██████████████████████████████████████████████████████| 5917/5917 [00:00<00:00, 87006.37it/s, Write]\n",
            "Tag: 100%|██████████████████████████████████████████████████████████████| 5917/5917 [00:00<00:00, 236683.61it/s, Write]\n",
            "LIDControl: 100%|█████████████████████████████████████████████████████████████████████████| 3/3 [00:00<?, ?it/s, Write]\n"
          ]
        }
      ],
      "source": [
        "inp.write_file('onlyLID.inp')"
      ]
    },
    {
      "cell_type": "code",
      "execution_count": null,
      "metadata": {
        "id": "4ol3f5MDMWCP"
      },
      "outputs": [],
      "source": [
        "df['Tags']=Landuse['tag']\n",
        "df['Subcatchment']=Landuse.index.get_level_values(1)\n",
        "df['subArea']=Landuse['Area']*10000\n",
        "df['AREA']=1\n",
        "df['TOPERV']=0\n",
        "df=df.reset_index(drop=True)\n",
        "df2=df.copy()\n",
        "\n",
        "def makeinp(pct):\n",
        "    inp=read_inp_file('onlyLID.inp')\n",
        "    for index, row in df.iterrows():\n",
        "        if row['Tags'] in GR80:\n",
        "            row['NUM']=row['subArea']*0.8*pct\n",
        "            if row['NUM']>=1:\n",
        "                row['LID']='GR1'\n",
        "                row['WIDTH']=1\n",
        "                row['INITSAT']=0\n",
        "                row['FROMIMP']=0\n",
        "        elif row['Tags'] in PP50:\n",
        "            row['NUM']=row['subArea']*0.5*pct\n",
        "            if row['NUM']>=1:\n",
        "                row['LID']='PP1'\n",
        "                row['WIDTH']=1\n",
        "                row['INITSAT']=0\n",
        "                row['FROMIMP']=50*pct\n",
        "        elif row['Tags'] in PP20:\n",
        "            row['NUM']=row['subArea']*0.2*pct\n",
        "            if row['NUM']>=1:\n",
        "                row['LID']='PP1'\n",
        "                row['WIDTH']=1\n",
        "                row['INITSAT']=0\n",
        "                row['FROMIMP']=0\n",
        "        df.iloc[index]=row\n",
        "    for index,row in df2.iterrows():\n",
        "        if row['Tags'] in BC10:\n",
        "            row['NUM']=row['subArea']*0.1*pct\n",
        "            if row['NUM']>=1:\n",
        "                row['LID']='BC1'\n",
        "                row['WIDTH']=0\n",
        "                row['INITSAT']=0\n",
        "                row['FROMIMP']=30*pct\n",
        "            df2.iloc[index]=row\n",
        "    result = pd.concat([df,df2])\n",
        "    result.dropna(subset=['LID'],inplace=True)\n",
        "    result['NUM'] = result['NUM'].apply(np.int64)\n",
        "    inp[sections.LID_USAGE] = LIDUsage.create_section(result[['Subcatchment', 'LID', 'NUM', 'AREA', 'WIDTH', 'INITSAT', 'FROMIMP',\n",
        "       'TOPERV']].values)\n",
        "    inp.write_file('Kowloon_FM2627_LID_'+str(pct)+'.inp')"
      ]
    },
    {
      "cell_type": "code",
      "execution_count": null,
      "metadata": {
        "scrolled": false,
        "id": "ltEdiZ8IMWCQ",
        "outputId": "096de647-bd3c-4895-c6c2-69d92a7e014a"
      },
      "outputs": [
        {
          "name": "stderr",
          "output_type": "stream",
          "text": [
            "LIDUsage: 100%|██████████████████████████████████████████████████████████| 3515/3515 [00:00<00:00, 86563.01it/s, Write]\n",
            "LIDUsage: 100%|██████████████████████████████████████████████████████████| 5292/5292 [00:00<00:00, 91245.37it/s, Write]\n",
            "LIDUsage: 100%|██████████████████████████████████████████████████████████| 5582/5582 [00:00<00:00, 94612.82it/s, Write]\n",
            "LIDUsage: 100%|██████████████████████████████████████████████████████████| 6234/6234 [00:00<00:00, 94480.85it/s, Write]\n",
            "LIDUsage: 100%|██████████████████████████████████████████████████████████| 6234/6234 [00:00<00:00, 86575.56it/s, Write]\n"
          ]
        }
      ],
      "source": [
        "for i in [0.2,0.4,0.6,0.8,1]:\n",
        "    makeinp(i)"
      ]
    },
    {
      "cell_type": "code",
      "execution_count": null,
      "metadata": {
        "id": "LSFLVY0AMWCQ"
      },
      "outputs": [],
      "source": [
        "def changerainfile(pct,periods):\n",
        "    for a in pct:\n",
        "        inp=read_inp_file('Kowloon_FM2627_LID_'+str(a)+'.inp')\n",
        "        for i in periods:\n",
        "            inp[RAINGAGES]['STA01'].Filename = 'prec_mm_'+i+'.DAT'\n",
        "            inp.write_file('Kowloon_FM2627_LID_'+str(a)+'_'+i+'.inp')"
      ]
    },
    {
      "cell_type": "code",
      "execution_count": null,
      "metadata": {
        "id": "vFdH1dAXMWCQ",
        "outputId": "88667361-1b16-4501-a880-d06409c4e24f"
      },
      "outputs": [
        {
          "name": "stderr",
          "output_type": "stream",
          "text": [
            "RainGage: 100%|██████████████████████████████████████████████████████████████████| 1/1 [00:00<00:00, 125.00it/s, Write]\n",
            "RainGage: 100%|███████████████████████████████████████████████████████████████████████████| 1/1 [00:00<?, ?it/s, Write]\n",
            "RainGage: 100%|███████████████████████████████████████████████████████████████████████████| 1/1 [00:00<?, ?it/s, Write]\n",
            "RainGage: 100%|███████████████████████████████████████████████████████████████████████████| 1/1 [00:00<?, ?it/s, Write]\n",
            "RainGage: 100%|███████████████████████████████████████████████████████████████████████████| 1/1 [00:00<?, ?it/s, Write]\n",
            "RainGage: 100%|█████████████████████████████████████████████████████████████████| 1/1 [00:00<00:00, 1000.31it/s, Write]\n",
            "RainGage: 100%|██████████████████████████████████████████████████████████████████| 1/1 [00:00<00:00, 999.60it/s, Write]\n",
            "RainGage: 100%|███████████████████████████████████████████████████████████████████████████| 1/1 [00:00<?, ?it/s, Write]\n",
            "RainGage: 100%|███████████████████████████████████████████████████████████████████████████| 1/1 [00:00<?, ?it/s, Write]\n",
            "RainGage: 100%|█████████████████████████████████████████████████████████████████| 1/1 [00:00<00:00, 1002.22it/s, Write]\n",
            "RainGage: 100%|███████████████████████████████████████████████████████████████████████████| 1/1 [00:00<?, ?it/s, Write]\n",
            "RainGage: 100%|█████████████████████████████████████████████████████████████████| 1/1 [00:00<00:00, 1002.46it/s, Write]\n",
            "RainGage: 100%|███████████████████████████████████████████████████████████████████████████| 1/1 [00:00<?, ?it/s, Write]\n",
            "RainGage: 100%|███████████████████████████████████████████████████████████████████████████| 1/1 [00:00<?, ?it/s, Write]\n",
            "RainGage: 100%|███████████████████████████████████████████████████████████████████████████| 1/1 [00:00<?, ?it/s, Write]\n"
          ]
        }
      ],
      "source": [
        "pct=[0.2,0.4,0.6,0.8,1]\n",
        "periods=['2yr','10yr','50yr']\n",
        "changerainfile(pct,periods)"
      ]
    },
    {
      "cell_type": "code",
      "execution_count": null,
      "metadata": {
        "id": "09AsoZDTMWCQ"
      },
      "outputs": [],
      "source": []
    }
  ],
  "metadata": {
    "kernelspec": {
      "display_name": "Python [conda env:venv] *",
      "language": "python",
      "name": "conda-env-venv-py"
    },
    "language_info": {
      "codemirror_mode": {
        "name": "ipython",
        "version": 3
      },
      "file_extension": ".py",
      "mimetype": "text/x-python",
      "name": "python",
      "nbconvert_exporter": "python",
      "pygments_lexer": "ipython3",
      "version": "3.7.7"
    },
    "colab": {
      "provenance": []
    }
  },
  "nbformat": 4,
  "nbformat_minor": 0
}